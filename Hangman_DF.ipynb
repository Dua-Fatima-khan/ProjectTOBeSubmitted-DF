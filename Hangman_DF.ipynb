{
  "nbformat": 4,
  "nbformat_minor": 0,
  "metadata": {
    "colab": {
      "provenance": [],
      "authorship_tag": "ABX9TyMzxylFuBrzwW/A6OV8kOFA",
      "include_colab_link": true
    },
    "kernelspec": {
      "name": "python3",
      "display_name": "Python 3"
    },
    "language_info": {
      "name": "python"
    }
  },
  "cells": [
    {
      "cell_type": "markdown",
      "metadata": {
        "id": "view-in-github",
        "colab_type": "text"
      },
      "source": [
        "<a href=\"https://colab.research.google.com/github/Dua-Fatima-khan/ProjectTOBeSubmitted-DF/blob/main/Hangman_DF.ipynb\" target=\"_parent\"><img src=\"https://colab.research.google.com/assets/colab-badge.svg\" alt=\"Open In Colab\"/></a>"
      ]
    },
    {
      "cell_type": "markdown",
      "source": [
        "#🍩 Dua Fatima’s Tasty Hangman – Guess the Food Before It’s Gone! 🍔🥗\n",
        "\n",
        "\n",
        "\n"
      ],
      "metadata": {
        "id": "tPCh-WFjmDFz"
      }
    },
    {
      "cell_type": "code",
      "execution_count": 7,
      "metadata": {
        "colab": {
          "base_uri": "https://localhost:8080/"
        },
        "id": "l32ckM1dj3RQ",
        "outputId": "a98f96cb-35ee-468d-fc59-05f2de345b36"
      },
      "outputs": [
        {
          "output_type": "stream",
          "name": "stdout",
          "text": [
            "🍩 Dua Fatima’s Tasty Hangman – Guess the Food Before It’s Gone! 🍔🥗\n",
            "------------------------------------------------------------\n",
            "\"\"\"\"\"\"\"\"\"\"\"\"\"\"\"\"\"\"\"\"\"\"\"\"\"\"\"\"\"\"\"\"\"\"\"\"\"\"\"\"\"\"\"\"\"\"\"\"\"\"\"\"\"\"\"\"\"\"\"\"\n",
            "🍔 Welcome to the Foodie Hangman! Guess the delicious word! 🍕\n",
            "_ _ _ _ _ _ _\n",
            "🍩 Guess a tasty letter: a\n",
            "🤢 Oops! That was a bad guess. 5 attempts left.\n",
            "  🍗💀  \n",
            "_ _ _ _ _ _ _\n",
            "🍩 Guess a tasty letter: c\n",
            "😋 Yum! That letter is in the word!\n",
            "_ _ _ c _ _ _\n",
            "🍩 Guess a tasty letter: p\n",
            "😋 Yum! That letter is in the word!\n",
            "p _ p c _ _ _\n",
            "🍩 Guess a tasty letter: o\n",
            "😋 Yum! That letter is in the word!\n",
            "p o p c o _ _\n",
            "🍩 Guess a tasty letter: r\n",
            "😋 Yum! That letter is in the word!\n",
            "p o p c o r _\n",
            "🍩 Guess a tasty letter: n\n",
            "😋 Yum! That letter is in the word!\n",
            "🎉 Congrats, foodie! You guessed the word: POPCORN 🍽️\n"
          ]
        }
      ],
      "source": [
        "import random\n",
        "\n",
        "print(\"🍩 Dua Fatima’s Tasty Hangman – Guess the Food Before It’s Gone! 🍔🥗\")\n",
        "\n",
        "print(\"-\"*60)\n",
        "print(\"\\\"\"*60)\n",
        "words = [\"burger\", \"chocolate\", \"popcorn\", \"pancake\", \"pizza\", \"sandwich\"]\n",
        "word = random.choice(words)\n",
        "word_letters = set(word)\n",
        "guessed_letters = set()\n",
        "attempts = 6\n",
        "\n",
        "print(\"🍔 Welcome to the Foodie Hangman! Guess the delicious word! 🍕\")\n",
        "\n",
        "while attempts > 0 and word_letters:\n",
        "    display_word = [letter if letter in guessed_letters else \"_\" for letter in word]\n",
        "    print(\" \".join(display_word))\n",
        "\n",
        "    guess = input(\"🍩 Guess a tasty letter: \").lower()\n",
        "\n",
        "    if guess in guessed_letters:\n",
        "        print(\"🤦‍♂️ You already picked that letter! No double dipping!\")\n",
        "    elif guess in word_letters:\n",
        "        guessed_letters.add(guess)\n",
        "        word_letters.remove(guess)\n",
        "        print(\"😋 Yum! That letter is in the word!\")\n",
        "    else:\n",
        "        attempts -= 1\n",
        "        print(f\"🤢 Oops! That was a bad guess. {attempts} attempts left.\")\n",
        "\n",
        "        foodie_stages = [\n",
        "            \"  🍗💀  \",   # 6th attempt gone\n",
        "            \"  🥩|   \",   # 5th attempt gone\n",
        "            \"  🥖/|  \",   # 4th attempt gone\n",
        "            \"  🍟/|\\ \",  # 3rd attempt gone\n",
        "            \"  🍔/|\\ \",  # 2nd attempt gone\n",
        "            \"  🍕/|\\ /  \" # 1st attempt gone\n",
        "        ]\n",
        "        if attempts < 6:\n",
        "            print(foodie_stages[5 - attempts])\n",
        "\n",
        "if not word_letters:\n",
        "    print(f\"🎉 Congrats, foodie! You guessed the word: {word.upper()} 🍽️\")\n",
        "else:\n",
        "    print(f\"💀 You went hungry! The word was: {word.upper()} 🍽️\")\n"
      ]
    },
    {
      "cell_type": "code",
      "source": [],
      "metadata": {
        "id": "JW7jKu3QmJla"
      },
      "execution_count": null,
      "outputs": []
    },
    {
      "cell_type": "code",
      "source": [],
      "metadata": {
        "id": "RC1L_b8oj4Yi"
      },
      "execution_count": null,
      "outputs": []
    }
  ]
}