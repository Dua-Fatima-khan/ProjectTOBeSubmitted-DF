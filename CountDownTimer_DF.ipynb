{
  "nbformat": 4,
  "nbformat_minor": 0,
  "metadata": {
    "colab": {
      "provenance": [],
      "authorship_tag": "ABX9TyPKXO4n8Y+LYcMsxso0QJmQ",
      "include_colab_link": true
    },
    "kernelspec": {
      "name": "python3",
      "display_name": "Python 3"
    },
    "language_info": {
      "name": "python"
    }
  },
  "cells": [
    {
      "cell_type": "markdown",
      "metadata": {
        "id": "view-in-github",
        "colab_type": "text"
      },
      "source": [
        "<a href=\"https://colab.research.google.com/github/Dua-Fatima-khan/ProjectTOBeSubmitted-DF/blob/main/CountDownTimer_DF.ipynb\" target=\"_parent\"><img src=\"https://colab.research.google.com/assets/colab-badge.svg\" alt=\"Open In Colab\"/></a>"
      ]
    },
    {
      "cell_type": "markdown",
      "source": [
        "\n",
        "\n",
        "#⏳ Time Master – The Ultimate Countdown Challenge by Dua Fatima! 🔥\n",
        "\n"
      ],
      "metadata": {
        "id": "kzh4xOCkolhu"
      }
    },
    {
      "cell_type": "code",
      "execution_count": 1,
      "metadata": {
        "colab": {
          "base_uri": "https://localhost:8080/"
        },
        "id": "Nh4V1-i5oR6x",
        "outputId": "f9bc34ec-3edd-4578-a7ad-e6db4bd0c128"
      },
      "outputs": [
        {
          "output_type": "stream",
          "name": "stdout",
          "text": [
            "⏳ How long do you want your suspense to last (in seconds)? 😈: 5\n",
            "Starting countdown... 🎬\n",
            "5 seconds left... 💣\n",
            "4 seconds left... 🔥\n",
            "3 seconds left... ⏳\n",
            "2 seconds left... 🔔\n",
            "1 seconds left... 🔥\n",
            "💥 BOOM! Time's up! 🎉\n"
          ]
        }
      ],
      "source": [
        "import time\n",
        "import random\n",
        "\n",
        "print(\"⏳ Time Master – The Ultimate Countdown Challenge by Dua Fatima! 🔥\")\n",
        "print(\"-\"*60)\n",
        "print(\"\\\"\"*60)\n",
        "\n",
        "seconds = int(input(\"⏳ How long do you want your suspense to last (in seconds)? 😈: \"))\n",
        "\n",
        "print(\"Starting countdown... 🎬\")\n",
        "\n",
        "while seconds > 0:\n",
        "    random_effect = random.choice([\"🚀\", \"🔥\", \"💣\", \"🎇\", \"⏳\", \"🔔\"])\n",
        "    print(f\"{seconds} seconds left... {random_effect}\")\n",
        "    time.sleep(1)\n",
        "    seconds -= 1\n",
        "\n",
        "print(\"💥 BOOM! Time's up! 🎉\")\n"
      ]
    },
    {
      "cell_type": "code",
      "source": [],
      "metadata": {
        "id": "m8-Htj9-oS6h"
      },
      "execution_count": null,
      "outputs": []
    }
  ]
}