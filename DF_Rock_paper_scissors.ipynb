{
  "nbformat": 4,
  "nbformat_minor": 0,
  "metadata": {
    "colab": {
      "provenance": [],
      "authorship_tag": "ABX9TyPXo77sv3mcM+kIuu0o4LxP",
      "include_colab_link": true
    },
    "kernelspec": {
      "name": "python3",
      "display_name": "Python 3"
    },
    "language_info": {
      "name": "python"
    }
  },
  "cells": [
    {
      "cell_type": "markdown",
      "metadata": {
        "id": "view-in-github",
        "colab_type": "text"
      },
      "source": [
        "<a href=\"https://colab.research.google.com/github/Dua-Fatima-khan/ProjectTOBeSubmitted-DF/blob/main/DF_Rock_paper_scissors.ipynb\" target=\"_parent\"><img src=\"https://colab.research.google.com/assets/colab-badge.svg\" alt=\"Open In Colab\"/></a>"
      ]
    },
    {
      "cell_type": "markdown",
      "source": [
        "\n",
        "\n",
        "# Dua Fatima Presents: The Ultimate  Rock, Paper, Scissors Battle!\n",
        "\n",
        "\n"
      ],
      "metadata": {
        "id": "jniB4FYykLUy"
      }
    },
    {
      "cell_type": "code",
      "execution_count": 6,
      "metadata": {
        "colab": {
          "base_uri": "https://localhost:8080/"
        },
        "id": "aKbEG89dfF89",
        "outputId": "8c94f280-801b-43e1-ca91-79334e9f943d"
      },
      "outputs": [
        {
          "output_type": "stream",
          "name": "stdout",
          "text": [
            "✨ Dua Fatima Presents: The Ultimate  Rock, Paper, Scissors Battle! ✨\n",
            "------------------------------------------------------------\n",
            "\"\"\"\"\"\"\"\"\"\"\"\"\"\"\"\"\"\"\"\"\"\"\"\"\"\"\"\"\"\"\"\"\"\"\"\"\"\"\"\"\"\"\"\"\"\"\"\"\"\"\"\"\"\"\"\"\"\"\"\"\n",
            "🎉 Welcome to the Ultimate Rock, Paper, Scissors Battle! 🎉\n",
            "🤖 You vs. the Mighty Computer! Let’s see who wins...\n",
            "\n",
            "🔹 Choose your weapon (rock, paper, or scissors): scissors\n",
            "\n",
            "😎 You threw: scissors\n",
            "🤖Computer threw: scissors\n",
            "😱 It's a tie! Both warriors stand strong! 🏆\n",
            "\n",
            "🔄 Wanna battle again? (yes/no): no\n",
            "👋 Alright, warrior! Thanks for playing! Stay awesome! ✨\n"
          ]
        }
      ],
      "source": [
        "import random\n",
        "print(\"✨ Dua Fatima Presents: The Ultimate  Rock, Paper, Scissors Battle! ✨\")\n",
        "\n",
        "print(\"-\"*60)\n",
        "print(\"\\\"\"*60)\n",
        "\n",
        "print(\"🎉 Welcome to the Ultimate Rock, Paper, Scissors Battle! 🎉\")\n",
        "print(\"🤖 You vs. the Mighty Computer! Let’s see who wins...\")\n",
        "\n",
        "while True:\n",
        "    # Get user input\n",
        "    user_choice = input(\"\\n🔹 Choose your weapon (rock, paper, or scissors): \").lower()\n",
        "\n",
        "    # Check if user input is valid\n",
        "    if user_choice not in [\"rock\", \"paper\", \"scissors\"]:\n",
        "        print(\"❌ Whoops! That’s not a valid choice. Try again, brave warrior! ⚔️\")\n",
        "        continue\n",
        "\n",
        "    # Computer randomly selects a choice\n",
        "    computer_choice = random.choice([\"rock\", \"paper\", \"scissors\"])\n",
        "\n",
        "    # Funny responses based on choices\n",
        "    print(f\"\\n😎 You threw: {user_choice}\")\n",
        "    print(f\"🤖Computer threw: {computer_choice}\")\n",
        "\n",
        "    # Determine the winner with fun responses\n",
        "    if user_choice == computer_choice:\n",
        "        print(\"😱 It's a tie! Both warriors stand strong! 🏆\")\n",
        "    elif (user_choice == \"rock\" and computer_choice == \"scissors\") or \\\n",
        "         (user_choice == \"scissors\" and computer_choice == \"paper\") or \\\n",
        "         (user_choice == \"paper\" and computer_choice == \"rock\"):\n",
        "        print(\"🎉 You win! The computer bows before your greatness! 👑\")\n",
        "    else:\n",
        "        print(\"💀 Oh no! The computer wins! Better luck next time! 😭\")\n",
        "\n",
        "    # Ask to play again with a funny touch\n",
        "    play_again = input(\"\\n🔄 Wanna battle again? (yes/no): \").lower()\n",
        "    if play_again != \"yes\":\n",
        "        print(\"👋 Alright, warrior! Thanks for playing! Stay awesome! ✨\")\n",
        "        break\n"
      ]
    }
  ]
}