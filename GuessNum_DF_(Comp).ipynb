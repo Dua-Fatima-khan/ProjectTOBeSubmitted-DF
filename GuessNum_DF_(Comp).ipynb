{
  "nbformat": 4,
  "nbformat_minor": 0,
  "metadata": {
    "colab": {
      "provenance": [],
      "authorship_tag": "ABX9TyN/9M9cn55uQyRG0OQl3c2X",
      "include_colab_link": true
    },
    "kernelspec": {
      "name": "python3",
      "display_name": "Python 3"
    },
    "language_info": {
      "name": "python"
    }
  },
  "cells": [
    {
      "cell_type": "markdown",
      "metadata": {
        "id": "view-in-github",
        "colab_type": "text"
      },
      "source": [
        "<a href=\"https://colab.research.google.com/github/Dua-Fatima-khan/ProjectTOBeSubmitted-DF/blob/main/GuessNum_DF_(Comp).ipynb\" target=\"_parent\"><img src=\"https://colab.research.google.com/assets/colab-badge.svg\" alt=\"Open In Colab\"/></a>"
      ]
    },
    {
      "cell_type": "markdown",
      "source": [
        "#The Ultimate Guess the Number Game Created by Dua Fatima\n"
      ],
      "metadata": {
        "id": "g6sgBPpLZi_N"
      }
    },
    {
      "cell_type": "code",
      "execution_count": null,
      "metadata": {
        "colab": {
          "base_uri": "https://localhost:8080/"
        },
        "id": "sVUVHVPQXYPo",
        "outputId": "fa37c71b-bc25-43fa-d916-41419b63dc5a"
      },
      "outputs": [
        {
          "output_type": "stream",
          "name": "stdout",
          "text": [
            "✨ Dua Fatima Presents: The Ultimate Guess the Number Game! ✨\n",
            "------------------------------------------------------------\n",
            "\"\"\"\"\"\"\"\"\"\"\"\"\"\"\"\"\"\"\"\"\"\"\"\"\"\"\"\"\"\"\"\"\"\"\"\"\"\"\"\"\"\"\"\"\"\"\"\"\"\"\"\"\"\"\"\"\"\"\"\"\n",
            "🎉 Welcome to the Ultimate Guess the Number Game! 🎉\n",
            "------------------------------------------------------------\n",
            "I've picked a secret number between 1 and 100... Can you crack the code? 🔢\n",
            "Guess wisely, or face the wrath of infinite retries! 😈\n",
            "🤔 Take a wild guess: 80\n",
            "------------------------------------------------------------\n",
            "😅 Too low! Try aiming a bit higher. 🚀\n",
            "🤔 Take a wild guess: 90\n",
            "------------------------------------------------------------\n",
            "📉 Whoops, too high! Maybe chill a little? ❄️\n",
            "🤔 Take a wild guess: 95\n",
            "------------------------------------------------------------\n",
            "📉 Whoops, too high! Maybe chill a little? ❄️\n",
            "🤔 Take a wild guess: 93\n",
            "------------------------------------------------------------\n",
            "📉 Whoops, too high! Maybe chill a little? ❄️\n",
            "🤔 Take a wild guess: 91\n",
            "------------------------------------------------------------\n",
            "📉 Whoops, too high! Maybe chill a little? ❄️\n",
            "🤔 Take a wild guess: 92\n",
            "------------------------------------------------------------\n",
            "📉 Whoops, too high! Maybe chill a little? ❄️\n",
            "🤔 Take a wild guess: 90\n",
            "------------------------------------------------------------\n",
            "📉 Whoops, too high! Maybe chill a little? ❄️\n",
            "🤔 Take a wild guess: 85\n",
            "------------------------------------------------------------\n",
            "🎉 BOOM! You nailed it! The number was 85! 🎯\n",
            "🏆 You cracked the code in 8 attempts! Not bad, genius! 🧠✨\n"
          ]
        }
      ],
      "source": [
        "import random\n",
        "print(\"✨ Dua Fatima Presents: The Ultimate Guess the Number Game! ✨\")\n",
        "\n",
        "print(\"-\"*60)\n",
        "print(\"\\\"\"*60)\n",
        "\n",
        "print(\"🎉 Welcome to the Ultimate Guess the Number Game! 🎉\")\n",
        "print(\"-\"*60)\n",
        "print(\"I've picked a secret number between 1 and 100... Can you crack the code? 🔢\")\n",
        "print(\"Guess wisely, or face the wrath of infinite retries! 😈\")\n",
        "\n",
        "secret_number = random.randint(1, 100)\n",
        "attempts = 0\n",
        "\n",
        "while True:\n",
        "    try:\n",
        "        user_guess = int(input(\"🤔 Take a wild guess: \"))\n",
        "        attempts += 1\n",
        "        print(\"-\"*60)\n",
        "        if user_guess < 1 or user_guess > 100:\n",
        "            print(\"🚨 Whoa there! Stay within 1-100, buddy! 🚨\")\n",
        "        elif user_guess < secret_number:\n",
        "            print(\"😅 Too low! Try aiming a bit higher. 🚀\")\n",
        "        elif user_guess > secret_number:\n",
        "            print(\"📉 Whoops, too high! Maybe chill a little? ❄️\")\n",
        "        else:\n",
        "            print(f\"🎉 BOOM! You nailed it! The number was {secret_number}! 🎯\")\n",
        "            print(f\"🏆 You cracked the code in {attempts} attempts! Not bad, genius! 🧠✨\")\n",
        "            break\n",
        "    except ValueError:\n",
        "        print(\"🙄 Seriously? Enter a NUMBER, not some random gibberish! 🤦‍♂️\")\n"
      ]
    }
  ]
}