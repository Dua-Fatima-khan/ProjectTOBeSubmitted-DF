{
  "nbformat": 4,
  "nbformat_minor": 0,
  "metadata": {
    "colab": {
      "provenance": [],
      "authorship_tag": "ABX9TyPnYUEJE9ZPZoRrkzUcwE4r",
      "include_colab_link": true
    },
    "kernelspec": {
      "name": "python3",
      "display_name": "Python 3"
    },
    "language_info": {
      "name": "python"
    }
  },
  "cells": [
    {
      "cell_type": "markdown",
      "metadata": {
        "id": "view-in-github",
        "colab_type": "text"
      },
      "source": [
        "<a href=\"https://colab.research.google.com/github/Dua-Fatima-khan/ProjectTOBeSubmitted-DF/blob/main/mad_libs_DF.ipynb\" target=\"_parent\"><img src=\"https://colab.research.google.com/assets/colab-badge.svg\" alt=\"Open In Colab\"/></a>"
      ]
    },
    {
      "cell_type": "markdown",
      "source": [
        "#Dua Fatima Presents: The Ultimate Motivational Story Creator!\n"
      ],
      "metadata": {
        "id": "VDr_XyS8UNSe"
      }
    },
    {
      "cell_type": "code",
      "source": [
        "\n",
        "import random\n",
        "print(\"✨ Dua Fatima Presents: The Ultimate Motivational Story Creator! ✨\")\n",
        "\n",
        "print(\"-\"*60)\n",
        "print(\"\\\"\"*60)\n",
        "\n",
        "print(\"🔥 Fill in the blanks and get your motivational story now! 🔥\\n\")\n",
        "print(\"-\"*60)\n",
        "print(\"\\\"\"*60)\n",
        "name = input(\"👋 What is your name? ➡️ \")\n",
        "dream = input(\"💭 What is your biggest dream? ➡️ \")\n",
        "challenge = input(\"⚔️ Name a challenge you've faced ➡️ \")\n",
        "inspiration = input(\"🌟 Who or what inspires you? ➡️ \")\n",
        "action = input(\"🚀 What action will you take today? ➡️ \")\n",
        "emotion = input(\"😊 How do you want to feel in the future? ➡️ \")\n",
        "place = input(\"📍 Name a place where you'd love to succeed ➡️ \")\n",
        "\n",
        "actions = [\n",
        "    \"pushed forward despite all odds 💪\",\n",
        "    \"turned pain into power 🔥\",\n",
        "    \"refused to give up 🏆\",\n",
        "    \"kept believing when no one else did ✨\",\n",
        "    \"fought with an unshakable spirit ⚡\"\n",
        "]\n",
        "\n",
        "random_action = random.choice(actions)\n",
        "print(\"-\"*60)\n",
        "story = f\"\"\"\n",
        "🌟✨ YOUR EPIC MOTIVATIONAL STORY ✨🌟\n",
        "\n",
        "{name} had a dream—to {dream} 🌠. But along the way, {challenge} stood like a mountain in their path.\n",
        "Many would have given up, but {name} remembered the words of {inspiration} and chose to {random_action}!\n",
        "\n",
        "With unwavering determination, {name} took the first step: {action} 🚀. Each step forward turned doubt into confidence, fear into courage.\n",
        "\n",
        "And then, the day arrived! Standing tall in {place}, {name} felt {emotion}—not because it was easy, but because they never quit.\n",
        "\n",
        "This is your journey. This is your story. Keep going! 🔥🏆\n",
        "\"\"\"\n",
        "\n",
        "print(\"\\n✨ Here is your story! ✨\\n\")\n",
        "print(\"-\"*60)\n",
        "print(story)\n",
        "\n",
        "print(\"\\nRemember, greatness is within you! 💪🚀\")\n",
        "print(\"-\"*60)"
      ],
      "metadata": {
        "colab": {
          "base_uri": "https://localhost:8080/"
        },
        "id": "hppfF7O9MWJP",
        "outputId": "75f3989a-4f97-4be6-fd62-60a2f8cc0477"
      },
      "execution_count": null,
      "outputs": [
        {
          "output_type": "stream",
          "name": "stdout",
          "text": [
            "✨ Dua Fatima Presents: The Ultimate Motivational Story Creator! ✨\n",
            "------------------------------------------------------------\n",
            "\"\"\"\"\"\"\"\"\"\"\"\"\"\"\"\"\"\"\"\"\"\"\"\"\"\"\"\"\"\"\"\"\"\"\"\"\"\"\"\"\"\"\"\"\"\"\"\"\"\"\"\"\"\"\"\"\"\"\"\"\n",
            "🔥 Fill in the blanks and get your motivational story now! 🔥\n",
            "\n",
            "------------------------------------------------------------\n",
            "\"\"\"\"\"\"\"\"\"\"\"\"\"\"\"\"\"\"\"\"\"\"\"\"\"\"\"\"\"\"\"\"\"\"\"\"\"\"\"\"\"\"\"\"\"\"\"\"\"\"\"\"\"\"\"\"\"\"\"\"\n",
            "👋 What is your name? ➡️ Dua\n",
            "💭 What is your biggest dream? ➡️ Help Needy People\n",
            "⚔️ Name a challenge you've faced ➡️ Tough Routine\n",
            "🌟 Who or what inspires you? ➡️ Prophet PBUH\n",
            "🚀 What action will you take today? ➡️ Complete my Projects\n",
            "😊 How do you want to feel in the future? ➡️ Succeed\n",
            "📍 Name a place where you'd love to succeed ➡️ Pakistan\n",
            "------------------------------------------------------------\n",
            "\n",
            "✨ Here is your story! ✨\n",
            "\n",
            "------------------------------------------------------------\n",
            "\n",
            "🌟✨ YOUR EPIC MOTIVATIONAL STORY ✨🌟\n",
            "\n",
            "Dua had a dream—to Help Needy People 🌠. But along the way, Tough Routine stood like a mountain in their path. \n",
            "Many would have given up, but Dua remembered the words of Prophet PBUH and chose to kept believing when no one else did ✨!\n",
            "\n",
            "With unwavering determination, Dua took the first step: Complete my Projects 🚀. Each step forward turned doubt into confidence, fear into courage.\n",
            "\n",
            "And then, the day arrived! Standing tall in Pakistan, Dua felt Succeed—not because it was easy, but because they never quit. \n",
            "\n",
            "This is your journey. This is your story. Keep going! 🔥🏆\n",
            "\n",
            "\n",
            "Remember, greatness is within you! 💪🚀\n",
            "------------------------------------------------------------\n"
          ]
        }
      ]
    },
    {
      "cell_type": "code",
      "execution_count": null,
      "metadata": {
        "id": "3pkK3KbWL6yJ"
      },
      "outputs": [],
      "source": []
    }
  ]
}