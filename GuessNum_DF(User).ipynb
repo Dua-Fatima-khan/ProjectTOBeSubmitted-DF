{
  "nbformat": 4,
  "nbformat_minor": 0,
  "metadata": {
    "colab": {
      "provenance": [],
      "gpuType": "T4",
      "authorship_tag": "ABX9TyO7E7jMIoQoztLvQOqKN1BF",
      "include_colab_link": true
    },
    "kernelspec": {
      "name": "python3",
      "display_name": "Python 3"
    },
    "language_info": {
      "name": "python"
    },
    "accelerator": "GPU"
  },
  "cells": [
    {
      "cell_type": "markdown",
      "metadata": {
        "id": "view-in-github",
        "colab_type": "text"
      },
      "source": [
        "<a href=\"https://colab.research.google.com/github/Dua-Fatima-khan/ProjectTOBeSubmitted-DF/blob/main/GuessNum_DF(User).ipynb\" target=\"_parent\"><img src=\"https://colab.research.google.com/assets/colab-badge.svg\" alt=\"Open In Colab\"/></a>"
      ]
    },
    {
      "cell_type": "markdown",
      "source": [
        "# Dua Fatima Presents: The Ultimate Guess the Number Game!"
      ],
      "metadata": {
        "id": "IYzW0sKIk8G_"
      }
    },
    {
      "cell_type": "code",
      "execution_count": null,
      "metadata": {
        "colab": {
          "base_uri": "https://localhost:8080/"
        },
        "id": "sEyi8jUCboxq",
        "outputId": "8f79d2a5-e2e5-4d0a-b8a7-38c5181814e7"
      },
      "outputs": [
        {
          "output_type": "stream",
          "name": "stdout",
          "text": [
            "✨ Dua Fatima Presents: The Ultimate Guess the Number Game! ✨\n",
            "------------------------------------------------------------\n",
            "\"\"\"\"\"\"\"\"\"\"\"\"\"\"\"\"\"\"\"\"\"\"\"\"\"\"\"\"\"\"\"\"\"\"\"\"\"\"\"\"\"\"\"\"\"\"\"\"\"\"\"\"\"\"\"\"\"\"\"\"\n",
            "🎮 Welcome to the Reverse Guess the Number Game! 🤖\n",
            "Think of a number between 1 and 100, and I'll try to guess it! 🧠\n",
            "Give me hints: type 'H' if my guess is too high, 'L' if too low, and 'C' if correct!\n",
            "🤔 Is it 89? (H/L/C): c\n",
            "🎉 Woohoo! I guessed it in 1 tries! 🤖🎯\n"
          ]
        }
      ],
      "source": [
        "import random\n",
        "print(\"✨ Dua Fatima Presents: The Ultimate Guess the Number Game! ✨\")\n",
        "\n",
        "print(\"-\"*60)\n",
        "print(\"\\\"\"*60)\n",
        "print(\"🎮 Welcome to the Reverse Guess the Number Game! 🤖\")\n",
        "print(\"Think of a number between 1 and 100, and I'll try to guess it! 🧠\")\n",
        "print(\"Give me hints: type 'H' if my guess is too high, 'L' if too low, and 'C' if correct!\")\n",
        "\n",
        "low = 1\n",
        "high = 100\n",
        "guesses = 0\n",
        "\n",
        "while True:\n",
        "    guess = random.randint(low, high)\n",
        "    guesses += 1\n",
        "\n",
        "    user_input = input(f\"🤔 Is it {guess}? (H/L/C): \").strip().upper()\n",
        "\n",
        "    if user_input == 'H':\n",
        "        high = guess - 1\n",
        "        print(\"📉 Too high? Okay, let me try again...\")\n",
        "    elif user_input == 'L':\n",
        "        low = guess + 1\n",
        "        print(\"📈 Too low? Alright, adjusting my guess...\")\n",
        "    elif user_input == 'C':\n",
        "        print(f\"🎉 Woohoo! I guessed it in {guesses} tries! 🤖🎯\")\n",
        "        break\n",
        "    else:\n",
        "        print(\"😵 Oops! Please enter 'H', 'L', or 'C'!\")\n"
      ]
    },
    {
      "cell_type": "code",
      "source": [],
      "metadata": {
        "id": "mTw0MGINbpvi"
      },
      "execution_count": null,
      "outputs": []
    }
  ]
}