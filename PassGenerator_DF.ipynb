{
  "nbformat": 4,
  "nbformat_minor": 0,
  "metadata": {
    "colab": {
      "provenance": [],
      "authorship_tag": "ABX9TyPayRyLw6ii2rpGxngmiugQ",
      "include_colab_link": true
    },
    "kernelspec": {
      "name": "python3",
      "display_name": "Python 3"
    },
    "language_info": {
      "name": "python"
    }
  },
  "cells": [
    {
      "cell_type": "markdown",
      "metadata": {
        "id": "view-in-github",
        "colab_type": "text"
      },
      "source": [
        "<a href=\"https://colab.research.google.com/github/Dua-Fatima-khan/ProjectTOBeSubmitted-DF/blob/main/PassGenerator_DF.ipynb\" target=\"_parent\"><img src=\"https://colab.research.google.com/assets/colab-badge.svg\" alt=\"Open In Colab\"/></a>"
      ]
    },
    {
      "cell_type": "markdown",
      "source": [
        "#🛡️ Lock & Load – Dua Fatima’s Secure Password Generator! 🔑"
      ],
      "metadata": {
        "id": "bofTZB14qc5W"
      }
    },
    {
      "cell_type": "code",
      "execution_count": 2,
      "metadata": {
        "colab": {
          "base_uri": "https://localhost:8080/"
        },
        "id": "FqsqRUlkp359",
        "outputId": "f18969f5-6d02-4f74-cc5c-83bfd881ae25"
      },
      "outputs": [
        {
          "output_type": "stream",
          "name": "stdout",
          "text": [
            "🛡️ Lock & Load – Dua Fatima’s Secure Password Generator! 🔑\n",
            "------------------------------------------------------------\n",
            "\"\"\"\"\"\"\"\"\"\"\"\"\"\"\"\"\"\"\"\"\"\"\"\"\"\"\"\"\"\"\"\"\"\"\"\"\"\"\"\"\"\"\"\"\"\"\"\"\"\"\"\"\"\"\"\"\"\"\"\"\n",
            "🔐 Welcome to the Super Secure Password Generator! 🚀\n",
            "Enter the level of chaos (password length) 😈: 6\n",
            "✨ Your unbreakable password: s>y8&- 🔥\n"
          ]
        }
      ],
      "source": [
        "import random\n",
        "import string\n",
        "print(\"🛡️ Lock & Load – Dua Fatima’s Secure Password Generator! 🔑\")\n",
        "\n",
        "print(\"-\"*60)\n",
        "print(\"\\\"\"*60)\n",
        "print(\"🔐 Welcome to the Super Secure Password Generator! 🚀\")\n",
        "\n",
        "length = int(input(\"Enter the level of chaos (password length) 😈: \"))\n",
        "\n",
        "if length < 4:\n",
        "    print(\"⚠️ Weak passwords are like wet paper! Choose at least 4 characters.\")\n",
        "else:\n",
        "    chaos = string.ascii_letters + string.digits + string.punctuation\n",
        "    password = \"\".join(random.choice(chaos) for _ in range(length))\n",
        "    print(f\"✨ Your unbreakable password: {password} 🔥\")\n"
      ]
    },
    {
      "cell_type": "code",
      "source": [],
      "metadata": {
        "id": "gu9GKxNEqLkh"
      },
      "execution_count": null,
      "outputs": []
    }
  ]
}